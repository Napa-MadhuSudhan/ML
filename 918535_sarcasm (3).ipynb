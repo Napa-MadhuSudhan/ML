{
  "nbformat": 4,
  "nbformat_minor": 0,
  "metadata": {
    "colab": {
      "name": "918535_sarcasm.ipynb",
      "provenance": [],
      "collapsed_sections": []
    },
    "kernelspec": {
      "name": "python3",
      "display_name": "Python 3"
    },
    "language_info": {
      "name": "python"
    }
  },
  "cells": [
    {
      "cell_type": "code",
      "metadata": {
        "id": "26rvDY7kqrof"
      },
      "source": [
        "import pandas as pd\n",
        "import re \n",
        "import nltk\n",
        "from tqdm import tqdm\n",
        "import matplotlib.pyplot as plt\n",
        "import seaborn as sns\n",
        "import keras\n",
        "from keras.preprocessing.text import Tokenizer\n",
        "from keras.preprocessing.sequence import pad_sequences\n",
        "from keras.layers import Dense,Embedding,Dropout,Input,Flatten\n",
        "from keras.models import Sequential\n",
        "from sklearn.metrics import classification_report,confusion_matrix\n",
        "import warnings\n",
        "warnings.filterwarnings('ignore')\n",
        "from sklearn.model_selection import train_test_split\n",
        "\n",
        "\n"
      ],
      "execution_count": 258,
      "outputs": []
    },
    {
      "cell_type": "markdown",
      "metadata": {
        "id": "cnAtxX2qXPqp"
      },
      "source": [
        "As Test_data does not contian is_sarcastic column , Inorder Verify our predictions I am spliting train_data into train data and validation data sets for predictions and classification report."
      ]
    },
    {
      "cell_type": "code",
      "metadata": {
        "colab": {
          "base_uri": "https://localhost:8080/",
          "height": 292
        },
        "id": "wEPKNjgirqTY",
        "outputId": "f4a94e3f-ca96-4e1a-83af-5afe42fee0e0"
      },
      "source": [
        "train_data1=pd.read_csv('/content/Train-Data- Sarcasm.csv')\n",
        "train_data,val_data=train_test_split(train_data1,test_size=0.15)\n",
        "train_data.head()"
      ],
      "execution_count": 259,
      "outputs": [
        {
          "output_type": "execute_result",
          "data": {
            "text/html": [
              "<div>\n",
              "<style scoped>\n",
              "    .dataframe tbody tr th:only-of-type {\n",
              "        vertical-align: middle;\n",
              "    }\n",
              "\n",
              "    .dataframe tbody tr th {\n",
              "        vertical-align: top;\n",
              "    }\n",
              "\n",
              "    .dataframe thead th {\n",
              "        text-align: right;\n",
              "    }\n",
              "</style>\n",
              "<table border=\"1\" class=\"dataframe\">\n",
              "  <thead>\n",
              "    <tr style=\"text-align: right;\">\n",
              "      <th></th>\n",
              "      <th>Id</th>\n",
              "      <th>article_link</th>\n",
              "      <th>headline</th>\n",
              "      <th>is_sarcastic</th>\n",
              "    </tr>\n",
              "  </thead>\n",
              "  <tbody>\n",
              "    <tr>\n",
              "      <th>4586</th>\n",
              "      <td>19415</td>\n",
              "      <td>https://www.theonion.com/kids-in-bus-accident-...</td>\n",
              "      <td>kids in bus accident mocked by kids in passing...</td>\n",
              "      <td>1</td>\n",
              "    </tr>\n",
              "    <tr>\n",
              "      <th>18907</th>\n",
              "      <td>180</td>\n",
              "      <td>https://www.theonion.com/man-failing-to-heed-h...</td>\n",
              "      <td>man failing to heed harsh lessons of past orde...</td>\n",
              "      <td>1</td>\n",
              "    </tr>\n",
              "    <tr>\n",
              "      <th>7703</th>\n",
              "      <td>18359</td>\n",
              "      <td>https://www.huffingtonpost.com/entry/over-300-...</td>\n",
              "      <td>over 300 women chime in after l.a. times detai...</td>\n",
              "      <td>0</td>\n",
              "    </tr>\n",
              "    <tr>\n",
              "      <th>15338</th>\n",
              "      <td>3031</td>\n",
              "      <td>https://www.huffingtonpost.com/entry/katy-perr...</td>\n",
              "      <td>after watching katy perry crash a wedding, you...</td>\n",
              "      <td>0</td>\n",
              "    </tr>\n",
              "    <tr>\n",
              "      <th>14115</th>\n",
              "      <td>4538</td>\n",
              "      <td>https://www.huffingtonpost.com/entry/sadiq-kha...</td>\n",
              "      <td>london's new mayor: i won't be able to visit t...</td>\n",
              "      <td>0</td>\n",
              "    </tr>\n",
              "  </tbody>\n",
              "</table>\n",
              "</div>"
            ],
            "text/plain": [
              "          Id  ... is_sarcastic\n",
              "4586   19415  ...            1\n",
              "18907    180  ...            1\n",
              "7703   18359  ...            0\n",
              "15338   3031  ...            0\n",
              "14115   4538  ...            0\n",
              "\n",
              "[5 rows x 4 columns]"
            ]
          },
          "metadata": {
            "tags": []
          },
          "execution_count": 259
        }
      ]
    },
    {
      "cell_type": "code",
      "metadata": {
        "colab": {
          "base_uri": "https://localhost:8080/",
          "height": 205
        },
        "id": "PfIgn2UCr0Cn",
        "outputId": "fb365098-4969-41e7-cf96-c40a9231f121"
      },
      "source": [
        "test_data=pd.read_csv('/content/Test-Data- Sarcasm.csv')\n",
        "test_data.head()"
      ],
      "execution_count": 260,
      "outputs": [
        {
          "output_type": "execute_result",
          "data": {
            "text/html": [
              "<div>\n",
              "<style scoped>\n",
              "    .dataframe tbody tr th:only-of-type {\n",
              "        vertical-align: middle;\n",
              "    }\n",
              "\n",
              "    .dataframe tbody tr th {\n",
              "        vertical-align: top;\n",
              "    }\n",
              "\n",
              "    .dataframe thead th {\n",
              "        text-align: right;\n",
              "    }\n",
              "</style>\n",
              "<table border=\"1\" class=\"dataframe\">\n",
              "  <thead>\n",
              "    <tr style=\"text-align: right;\">\n",
              "      <th></th>\n",
              "      <th>Id</th>\n",
              "      <th>article_link</th>\n",
              "      <th>headline</th>\n",
              "    </tr>\n",
              "  </thead>\n",
              "  <tbody>\n",
              "    <tr>\n",
              "      <th>0</th>\n",
              "      <td>18504</td>\n",
              "      <td>https://www.theonion.com/woman-relieved-soulma...</td>\n",
              "      <td>woman relieved soulmate turned out to be in sa...</td>\n",
              "    </tr>\n",
              "    <tr>\n",
              "      <th>1</th>\n",
              "      <td>20811</td>\n",
              "      <td>https://www.huffingtonpost.com/entry/end-the-i...</td>\n",
              "      <td>end the international drug war to control the ...</td>\n",
              "    </tr>\n",
              "    <tr>\n",
              "      <th>2</th>\n",
              "      <td>20419</td>\n",
              "      <td>https://www.huffingtonpost.com/entry/donald-tr...</td>\n",
              "      <td>who said it: renowned racist george wallace or...</td>\n",
              "    </tr>\n",
              "    <tr>\n",
              "      <th>3</th>\n",
              "      <td>20631</td>\n",
              "      <td>https://local.theonion.com/struggling-local-th...</td>\n",
              "      <td>struggling local theater space put out of its ...</td>\n",
              "    </tr>\n",
              "    <tr>\n",
              "      <th>4</th>\n",
              "      <td>1921</td>\n",
              "      <td>https://www.theonion.com/graffiti-artist-no-lo...</td>\n",
              "      <td>graffiti artist no longer putting his heart in it</td>\n",
              "    </tr>\n",
              "  </tbody>\n",
              "</table>\n",
              "</div>"
            ],
            "text/plain": [
              "      Id  ...                                           headline\n",
              "0  18504  ...  woman relieved soulmate turned out to be in sa...\n",
              "1  20811  ...  end the international drug war to control the ...\n",
              "2  20419  ...  who said it: renowned racist george wallace or...\n",
              "3  20631  ...  struggling local theater space put out of its ...\n",
              "4   1921  ...  graffiti artist no longer putting his heart in it\n",
              "\n",
              "[5 rows x 3 columns]"
            ]
          },
          "metadata": {
            "tags": []
          },
          "execution_count": 260
        }
      ]
    },
    {
      "cell_type": "markdown",
      "metadata": {
        "id": "5RwgqX3SX5pS"
      },
      "source": [
        "Here we are removing the Unnecessary contents in Headlines. "
      ]
    },
    {
      "cell_type": "code",
      "metadata": {
        "id": "dHSUpmqNr1qr"
      },
      "source": [
        "def clean_text(text):\n",
        "    words_length=[]\n",
        "    cleaned_data=[]\n",
        "    for sent in tqdm(text):\n",
        "        sent=re.sub('https?://[^\\s<>\"]+|www\\.[^\\s<>\"]+',' ',str(sent))\n",
        "        words=[word for word in sent.split()]\n",
        "      \n",
        "        words_length.append(len(words))\n",
        "        cleaned_data.append(' '.join(words))\n",
        "    return cleaned_data,words_length"
      ],
      "execution_count": 261,
      "outputs": []
    },
    {
      "cell_type": "code",
      "metadata": {
        "colab": {
          "base_uri": "https://localhost:8080/"
        },
        "id": "F3w5wZxJr5I0",
        "outputId": "d39cf465-86b9-4e54-b1ba-556e2f9c0034"
      },
      "source": [
        "train_data['headline'] , train_words_length = clean_text(train_data['headline'])\n",
        "\n"
      ],
      "execution_count": 262,
      "outputs": [
        {
          "output_type": "stream",
          "text": [
            "100%|██████████| 18161/18161 [00:00<00:00, 206056.65it/s]\n"
          ],
          "name": "stderr"
        }
      ]
    },
    {
      "cell_type": "code",
      "metadata": {
        "colab": {
          "base_uri": "https://localhost:8080/"
        },
        "id": "8bsX7ZGTr_n5",
        "outputId": "53ac08e2-9d90-4dcf-f3ae-c4fbc84c62dd"
      },
      "source": [
        "test_data['headline'] , test_words_length = clean_text(test_data['headline'])"
      ],
      "execution_count": 263,
      "outputs": [
        {
          "output_type": "stream",
          "text": [
            "100%|██████████| 5342/5342 [00:00<00:00, 131873.53it/s]\n"
          ],
          "name": "stderr"
        }
      ]
    },
    {
      "cell_type": "code",
      "metadata": {
        "colab": {
          "base_uri": "https://localhost:8080/"
        },
        "id": "3nVtMp2jRlP_",
        "outputId": "81d244e9-ae49-437c-d1b1-883f4e82db6b"
      },
      "source": [
        "val_data['headline'],val_words_length=clean_text(val_data['headline'])"
      ],
      "execution_count": 264,
      "outputs": [
        {
          "output_type": "stream",
          "text": [
            "100%|██████████| 3206/3206 [00:00<00:00, 118448.10it/s]\n"
          ],
          "name": "stderr"
        }
      ]
    },
    {
      "cell_type": "code",
      "metadata": {
        "id": "6gQtJSytsBBh"
      },
      "source": [
        "tokenizer=Tokenizer()\n",
        "tokenizer.fit_on_texts(train_data['headline'])\n"
      ],
      "execution_count": 265,
      "outputs": []
    },
    {
      "cell_type": "code",
      "metadata": {
        "id": "rafNCe6osERN"
      },
      "source": [
        "train_headlines=tokenizer.texts_to_sequences(train_data['headline'])\n",
        "train_headlines_padded=pad_sequences(train_headlines,maxlen=40,padding='pre')"
      ],
      "execution_count": 266,
      "outputs": []
    },
    {
      "cell_type": "code",
      "metadata": {
        "id": "8__aThgKR7BE"
      },
      "source": [
        "val_headlines=tokenizer.texts_to_sequences(val_data['headline'])\n",
        "val_headlines_padded=pad_sequences(val_headlines,maxlen=40,padding='pre')"
      ],
      "execution_count": 267,
      "outputs": []
    },
    {
      "cell_type": "code",
      "metadata": {
        "id": "woJt9e4vsGxB"
      },
      "source": [
        "test_headlines=tokenizer.texts_to_sequences(test_data['headline'])\n",
        "test_headlines_padded=pad_sequences(test_headlines,maxlen=40,padding='pre')"
      ],
      "execution_count": 268,
      "outputs": []
    },
    {
      "cell_type": "code",
      "metadata": {
        "colab": {
          "base_uri": "https://localhost:8080/"
        },
        "id": "TL03w8lSsLVN",
        "outputId": "47f7e112-80e7-4f78-f4d7-d643b77b37a2"
      },
      "source": [
        "vocab_size = len(tokenizer.word_index)\n",
        "model5=Sequential()\n",
        "model5.add(Input(shape=(40,)))\n",
        "model5.add(Embedding(vocab_size+1,20))\n",
        "model5.add(Flatten())\n",
        "model5.add(Dropout(0.4))\n",
        "model5.add(Dense(8,activation='relu'))\n",
        "model5.add(Dropout(0.4))\n",
        "model5.add(Dense(4,activation='relu'))\n",
        "model5.add(Dense(1,activation='sigmoid'))"
      ],
      "execution_count": 269,
      "outputs": [
        {
          "output_type": "stream",
          "text": [
            "WARNING:tensorflow:Please add `keras.layers.InputLayer` instead of `keras.Input` to Sequential model. `keras.Input` is intended to be used by Functional model.\n"
          ],
          "name": "stdout"
        }
      ]
    },
    {
      "cell_type": "code",
      "metadata": {
        "id": "n9rHN-kesNKG"
      },
      "source": [
        "\n",
        "model5.compile(optimizer='adam',loss='binary_crossentropy',metrics=['accuracy'])\n"
      ],
      "execution_count": 270,
      "outputs": []
    },
    {
      "cell_type": "code",
      "metadata": {
        "colab": {
          "base_uri": "https://localhost:8080/"
        },
        "id": "Iy1IOT49JN61",
        "outputId": "ea35baeb-6d75-4552-8a8b-06023e615c91"
      },
      "source": [
        "model5.summary()"
      ],
      "execution_count": 271,
      "outputs": [
        {
          "output_type": "stream",
          "text": [
            "Model: \"sequential_12\"\n",
            "_________________________________________________________________\n",
            "Layer (type)                 Output Shape              Param #   \n",
            "=================================================================\n",
            "embedding_12 (Embedding)     (None, 40, 20)            489900    \n",
            "_________________________________________________________________\n",
            "flatten_12 (Flatten)         (None, 800)               0         \n",
            "_________________________________________________________________\n",
            "dropout_24 (Dropout)         (None, 800)               0         \n",
            "_________________________________________________________________\n",
            "dense_36 (Dense)             (None, 8)                 6408      \n",
            "_________________________________________________________________\n",
            "dropout_25 (Dropout)         (None, 8)                 0         \n",
            "_________________________________________________________________\n",
            "dense_37 (Dense)             (None, 4)                 36        \n",
            "_________________________________________________________________\n",
            "dense_38 (Dense)             (None, 1)                 5         \n",
            "=================================================================\n",
            "Total params: 496,349\n",
            "Trainable params: 496,349\n",
            "Non-trainable params: 0\n",
            "_________________________________________________________________\n"
          ],
          "name": "stdout"
        }
      ]
    },
    {
      "cell_type": "code",
      "metadata": {
        "colab": {
          "base_uri": "https://localhost:8080/"
        },
        "id": "vJ2z_OBhsSJD",
        "outputId": "9de2925a-c0a2-4b08-d002-59345fa32e6f"
      },
      "source": [
        "model5.fit(train_headlines_padded, train_data['is_sarcastic'], epochs=10)"
      ],
      "execution_count": 272,
      "outputs": [
        {
          "output_type": "stream",
          "text": [
            "Epoch 1/10\n",
            "568/568 [==============================] - 6s 9ms/step - loss: 0.6772 - accuracy: 0.5538\n",
            "Epoch 2/10\n",
            "568/568 [==============================] - 5s 9ms/step - loss: 0.3785 - accuracy: 0.8425\n",
            "Epoch 3/10\n",
            "568/568 [==============================] - 5s 9ms/step - loss: 0.1898 - accuracy: 0.9297\n",
            "Epoch 4/10\n",
            "568/568 [==============================] - 5s 9ms/step - loss: 0.1094 - accuracy: 0.9615\n",
            "Epoch 5/10\n",
            "568/568 [==============================] - 5s 9ms/step - loss: 0.0647 - accuracy: 0.9741\n",
            "Epoch 6/10\n",
            "568/568 [==============================] - 5s 9ms/step - loss: 0.0508 - accuracy: 0.9768\n",
            "Epoch 7/10\n",
            "568/568 [==============================] - 5s 9ms/step - loss: 0.0386 - accuracy: 0.9840\n",
            "Epoch 8/10\n",
            "568/568 [==============================] - 5s 9ms/step - loss: 0.0347 - accuracy: 0.9855\n",
            "Epoch 9/10\n",
            "568/568 [==============================] - 5s 9ms/step - loss: 0.0311 - accuracy: 0.9854\n",
            "Epoch 10/10\n",
            "568/568 [==============================] - 5s 9ms/step - loss: 0.0301 - accuracy: 0.9844\n"
          ],
          "name": "stdout"
        },
        {
          "output_type": "execute_result",
          "data": {
            "text/plain": [
              "<keras.callbacks.History at 0x7f3c2a5ceb90>"
            ]
          },
          "metadata": {
            "tags": []
          },
          "execution_count": 272
        }
      ]
    },
    {
      "cell_type": "code",
      "metadata": {
        "colab": {
          "base_uri": "https://localhost:8080/"
        },
        "id": "0pP-MKKvSWY6",
        "outputId": "87328819-a4ae-4b6f-b6d1-d5486bcf76be"
      },
      "source": [
        "model5.evaluate(train_headlines_padded,train_data['is_sarcastic'])\n",
        "pred=model5.predict_classes(val_headlines_padded)\n",
        "print(classification_report(val_data['is_sarcastic'],pred))"
      ],
      "execution_count": 273,
      "outputs": [
        {
          "output_type": "stream",
          "text": [
            "568/568 [==============================] - 1s 1ms/step - loss: 5.6548e-04 - accuracy: 1.0000\n",
            "              precision    recall  f1-score   support\n",
            "\n",
            "           0       0.85      0.90      0.87      1800\n",
            "           1       0.86      0.80      0.83      1406\n",
            "\n",
            "    accuracy                           0.85      3206\n",
            "   macro avg       0.86      0.85      0.85      3206\n",
            "weighted avg       0.85      0.85      0.85      3206\n",
            "\n"
          ],
          "name": "stdout"
        }
      ]
    },
    {
      "cell_type": "code",
      "metadata": {
        "colab": {
          "base_uri": "https://localhost:8080/"
        },
        "id": "Q7zLO51fsVpl",
        "outputId": "426d9dfd-ebe7-4acd-8190-e4155c78bfde"
      },
      "source": [
        "data=pd.read_csv('Test-Data- Sarcasm.csv')\n",
        "\n",
        "testing =data[\"headline\"]\n",
        "\n",
        "data.head(2)\n",
        "\n",
        "testing_sequences = tokenizer.texts_to_sequences(testing)\n",
        "padded_testing_sequences= pad_sequences(testing_sequences,padding=\"pre\",maxlen=40)\n",
        "\n",
        "pred_value=model5.predict_classes(padded_testing_sequences)\n",
        "\n",
        "idd=list(data['Id'])\n",
        "\n",
        "dataSet=[]\n",
        "\n",
        "for i in range(len(pred_value)):\n",
        "    dataSet.append([idd[i],pred_value[i][0]])\n",
        "\n",
        "\n",
        "\n",
        "\n",
        "\n",
        "\n",
        "\n",
        "import requests\n",
        "dataString = \"\"\n",
        "for loop in range(len(dataSet)):\n",
        "    if loop == 0:\n",
        "        dataString = str(int(dataSet[loop][0]))+','+str(int(dataSet[loop][1]))\n",
        "    else:\n",
        "        dataString = dataString+\"\\n\"+str(int(dataSet[loop][0]))+','+str(int(dataSet[loop][1]))\n",
        "\n",
        "postData = {}\n",
        "postData['challengeName'] = 'sarcasm'\n",
        "postData['userID'] = '918535'\n",
        "postData['challengeType'] = 'binaryclassification'\n",
        "postData['submissionsData'] = dataString\n",
        "\n",
        "url = 'https://8n46gxwibi.execute-api.us-east-2.amazonaws.com/default/computeModelScore'\n",
        "x = requests.post(url,json=postData)\n",
        "\n",
        "print(x.text)"
      ],
      "execution_count": 274,
      "outputs": [
        {
          "output_type": "stream",
          "text": [
            "{\"message\":\"Internal Server Error\"}\n"
          ],
          "name": "stdout"
        }
      ]
    },
    {
      "cell_type": "code",
      "metadata": {
        "colab": {
          "base_uri": "https://localhost:8080/"
        },
        "id": "PfwfrwrlsY_H",
        "outputId": "6a21a70e-3ec4-4c31-b0e1-8aaff918d406"
      },
      "source": [
        "dataSet[:20]"
      ],
      "execution_count": 276,
      "outputs": [
        {
          "output_type": "execute_result",
          "data": {
            "text/plain": [
              "[[18504, 1],\n",
              " [20811, 0],\n",
              " [20419, 0],\n",
              " [20631, 1],\n",
              " [1921, 1],\n",
              " [10062, 1],\n",
              " [24913, 0],\n",
              " [5952, 1],\n",
              " [19347, 1],\n",
              " [23288, 0],\n",
              " [17919, 1],\n",
              " [26271, 0],\n",
              " [4298, 1],\n",
              " [8108, 0],\n",
              " [4750, 0],\n",
              " [7984, 0],\n",
              " [12587, 0],\n",
              " [23827, 0],\n",
              " [24857, 0],\n",
              " [21260, 1]]"
            ]
          },
          "metadata": {
            "tags": []
          },
          "execution_count": 276
        }
      ]
    },
    {
      "cell_type": "code",
      "metadata": {
        "id": "0sqaQq1oPLlV"
      },
      "source": [
        ""
      ],
      "execution_count": 275,
      "outputs": []
    }
  ]
}